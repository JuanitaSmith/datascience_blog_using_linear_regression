{
 "cells": [
  {
   "cell_type": "markdown",
   "metadata": {
    "pycharm": {
     "name": "#%% md\n"
    }
   },
   "source": [
    "### Udacity Data Science Nanodegree\n",
    "### Project 1: Writing a Data Scientist Blog Post\n",
    "---\n",
    "\n",
    "# Part II - London Airbnb Data - EDA\n",
    "## by Juanita Smith\n",
    "\n",
    "\n",
    "- [Introduction](#intro)\n",
    "- [Data gathering](#getdata)\n",
    "- [Feature Engineering](#featureeng)\n",
    "- [Step 1: Univariate Exploratoin](#univariate)\n",
    "- [Step 2: Bivariate Exploratoin](#bivariate)\n",
    "- [Step 3: Multivariate Exploratoin](#multivariate)\n",
    "- [Conclusions](#conclusions)\n",
    "- [References](#references)\n",
    "- [Submission](#submission)"
   ]
  },
  {
   "cell_type": "markdown",
   "metadata": {
    "pycharm": {
     "name": "#%% md\n"
    }
   },
   "source": [
    "<a id='intro'></a>\n",
    "<span style=\"color:blue; font-size:30px; line-height:40px; font-family: Calibri;\">Introduction</span>"
   ]
  },
  {
   "cell_type": "markdown",
   "metadata": {
    "pycharm": {
     "name": "#%% md\n"
    }
   },
   "source": [
    "### Context:\n",
    "Since 2008, guests and hosts have used Airbnb to travel in a more unique, personalized way. As part of the Airbnb Inside initiative, this dataset describes the listing activity of homestays in London, United Kingdom.\n",
    "\n",
    "\n",
    "### Dictionary:\n",
    "\n",
    "In Part I, Airbnb London listing data was cleaned, and only a subset of the available features was selected to support analysis of below questions.\n",
    "\n",
    "**Recap of the origin of data:**\n",
    "\n",
    "Airbnb activity is included for **London** and is a snapshot of booking availability on 8 June 2023\n",
    "\n",
    "Data was downloaded from Airbnb [here](http://insideairbnb.com/get-the-data/). Scroll down to London section. \n",
    "\n",
    "To support this analysis, only listings and calendar data was needed.\n",
    "\n",
    "Metadata are available [here](https://docs.google.com/spreadsheets/d/1iWCNJcSutYqpULSQHlNyGInUvHg2BoUGoNRIGa6Szc4/edit#gid=1322284596)"
   ]
  },
  {
   "cell_type": "markdown",
   "metadata": {
    "pycharm": {
     "name": "#%% md\n"
    }
   },
   "source": [
    "## Are you like me going the Taylor Swift concert in London next June and looking for the best place to stay ?\n",
    "\n",
    "This project will focus on answering questions below, whilst this notebook focus on questions 2 and 3 in blue\n",
    "\n",
    "#### 1) Are some hosts running a business, and if so, what is the impact on price ?\n",
    "> - Can we identify businesses by the duration of rentals ? Are businesses focusing on short or long term term rentals? What impact have rental duration have on price ?\n",
    "> - Are some hosts running a business with multiple listings ? If so, how does this affect the price ?\n",
    "\n",
    "<span style=\"color:blue; font-size:20px; line-height:20px; font-family: Calibri;\">2) Host Analysis: How does **host excellence** influence price ?</span>\n",
    "> - Super hosts seems to describe their properties better, how does this effect price and availability ?\n",
    "\n",
    "\n",
    "<span style=\"color:blue; font-size:20px; line-height:20px; font-family: Calibri;\">3) What effect does **star ratings** have on rental price ?</span>\n",
    "> - Would a 5-star vs 3-star listing in the same location cost more ?\n",
    "\n",
    "\n",
    "#### 4) Predict average daily listing price\n",
    "> - Knowing the impact of host excellence and star ratings above, could we make an accurate average daily price prediction ?\n",
    "\n",
    "\n",
    "## 2) Host Analysis: How does **host excellence** influence price ?\n",
    "\n",
    "### Main feature(s) of interest\n",
    "\n",
    "> I would expect commercial rentals to be lower in price per day, with a minimum rental period for longer periods 3 months and more\n",
    "\n",
    "We are looking to classify rentals between individual or commercial rentals.\n",
    "\n",
    "Main features of interest to help detect commercial rentals:\n",
    "- What is the price impact on superhosts\n",
    "- Which other features impact price ?\n",
    "- Which correlations exists ?"
   ]
  },
  {
   "cell_type": "code",
   "execution_count": null,
   "metadata": {},
   "outputs": [],
   "source": [
    "# avoid memory leakage\n",
    "import os\n",
    "os.environ[\"OMP_NUM_THREADS\"] = '1'"
   ]
  },
  {
   "cell_type": "code",
   "execution_count": null,
   "metadata": {
    "ExecuteTime": {
     "end_time": "2023-11-13T16:17:56.037684Z",
     "start_time": "2023-11-13T16:17:46.844062Z"
    },
    "pycharm": {
     "is_executing": true,
     "name": "#%%\n"
    }
   },
   "outputs": [],
   "source": [
    "# import all packages\n",
    "import numpy as np\n",
    "import pandas as pd\n",
    "import matplotlib.pyplot as plt\n",
    "import seaborn as sns\n",
    "import time\n",
    "import glob\n",
    "import os\n",
    "import missingno as msno\n",
    "from datetime import datetime\n",
    "\n",
    "# fuzzy compare neighborhood strings\n",
    "from fuzzywuzzy import fuzz\n",
    "\n",
    "# Entity recognition: is the host a person or business ?\n",
    "import stanza\n",
    "\n",
    "# from sklearn.impute import KNNImputer, IterativeImputer, SimpleImputer\n",
    "\n",
    "# clear the garbage to free memory as we are working with huge datasets\n",
    "import gc \n",
    "\n",
    "# import warnings\n",
    "# warnings.filterwarnings(\"ignore\")\n",
    "\n",
    "# Import custom modules\n",
    "# from project1_blog.src.utils import reduce_mem_usage, create_folder, entity_recognision\n",
    "import project1_blog.src.visuals as vs\n",
    "\n",
    "# set plots to be embedded inline\n",
    "%matplotlib inline\n",
    "\n",
    "# suppress matplotlib user warnings\n",
    "import warnings\n",
    "warnings.filterwarnings(\"ignore\", category=UserWarning, module=\"matplotlib\")\n",
    "\n",
    "# # use high resolution if this project is run on an apple device\n",
    "# %config InlineBackend.figure_format='retina'\n",
    "\n",
    "# Make your Jupyter Notebook wider\n",
    "from IPython.display import display, HTML\n",
    "display(HTML('<style>.container { width:80% !important; }</style>'))\n",
    "\n",
    "# environment settings\n",
    "# display all columns and rows during visual inspection\n",
    "# pd.options.display.max_columns = None\n",
    "# pd.options.display.max_rows = None\n",
    "\n",
    "# stop scientific notation on graphs\n",
    "# pd.options.display.float_format = '{:.0f}'.format\n",
    "\n",
    "import geopandas as gpd\n",
    "from shapely.geometry import Point\n",
    "from pyproj import CRS\n",
    "import contextily as ctx\n",
    "\n",
    "gpd.options.display_precision = 15"
   ]
  },
  {
   "cell_type": "code",
   "execution_count": null,
   "metadata": {
    "pycharm": {
     "name": "#%%\n"
    }
   },
   "outputs": [],
   "source": [
    "BASE_COLOR, BASE_HIGHLIGHT_INTENSE, BASE_HIGHLIGHT, BASE_COMPLEMENTRY, BASE_GREY, BASE_COLOR_SUB1, BASE_COLOR_SUB2, SYMBOLS = vs.set_plot_defaults()"
   ]
  },
  {
   "cell_type": "code",
   "execution_count": null,
   "metadata": {
    "pycharm": {
     "name": "#%%\n"
    }
   },
   "outputs": [],
   "source": [
    "# default file paths\n",
    "FILE_PATH_RAW = '../data/raw/'\n",
    "# FILE_NAME_CLEAN = '../data/clean/listing_clean.pkl'\n",
    "FILE_NAME_ENHANCED = '../data/clean/listing_enhanced.pkl'"
   ]
  },
  {
   "cell_type": "markdown",
   "metadata": {
    "pycharm": {
     "name": "#%% md\n"
    }
   },
   "source": [
    "<a id='getdata'></a>\n",
    "<span style=\"color:blue; font-size:30px; line-height:40px; font-family: Calibri;\">Gather Data</span>"
   ]
  },
  {
   "cell_type": "code",
   "execution_count": null,
   "metadata": {},
   "outputs": [],
   "source": [
    "# filename = FILE_PATH_RAW + 'listings/london/listings_060623.csv'\n",
    "# listings = pd.read_csv(filename)\n",
    "# listings.head()"
   ]
  },
  {
   "cell_type": "code",
   "execution_count": null,
   "metadata": {
    "pycharm": {
     "name": "#%%\n"
    }
   },
   "outputs": [],
   "source": [
    "# load the enhanced listing file \n",
    "listings = pd.read_pickle(FILE_NAME_ENHANCED)"
   ]
  },
  {
   "cell_type": "code",
   "execution_count": null,
   "metadata": {},
   "outputs": [],
   "source": [
    "cols = ['host_id', 'listing_id', 'latitude', 'longitude', 'neighbourhood_cleansed', 'price_mean']\n",
    "# listings = listings[listings['neighbourhood_cleansed'] == 'Westminster'][cols].copy()\n",
    "listings_geo = listings[cols].copy()\n",
    "listings_geo.rename(columns={'neighbourhood_cleansed': 'neighbourhood'}, inplace=True)\n",
    "listings_geo.head()"
   ]
  },
  {
   "cell_type": "code",
   "execution_count": null,
   "metadata": {},
   "outputs": [],
   "source": [
    "listings_geo.shape"
   ]
  },
  {
   "cell_type": "code",
   "execution_count": null,
   "metadata": {},
   "outputs": [],
   "source": [
    "listings_geo.info()"
   ]
  },
  {
   "cell_type": "code",
   "execution_count": null,
   "metadata": {
    "pycharm": {
     "name": "#%%\n"
    }
   },
   "outputs": [],
   "source": [
    "listings_geo.dropna(inplace=True)\n",
    "listings_geo.shape"
   ]
  },
  {
   "cell_type": "code",
   "execution_count": null,
   "metadata": {
    "pycharm": {
     "name": "#%%\n"
    }
   },
   "outputs": [],
   "source": [
    "# get neighborhood shapes\n",
    "crs_4326 = CRS(\"WGS84\")\n",
    "neighbourhood = gpd.read_file('../data/raw/neighbourhood_geojson/london/neighbourhoods_060623.geojson', crs=crs_4326)\n",
    "neighbourhood.head()"
   ]
  },
  {
   "cell_type": "code",
   "execution_count": null,
   "metadata": {},
   "outputs": [],
   "source": [
    "# calculate average price per neighborhood\n",
    "neigborhood_price = listings_geo.groupby('neighbourhood', as_index=False)['price_mean'].mean()"
   ]
  },
  {
   "cell_type": "code",
   "execution_count": null,
   "metadata": {},
   "outputs": [],
   "source": [
    "neighbourhood = neighbourhood.merge(neigborhood_price, on='neighbourhood')\n",
    "neighbourhood.head()"
   ]
  },
  {
   "cell_type": "code",
   "execution_count": null,
   "metadata": {
    "pycharm": {
     "name": "#%%\n"
    }
   },
   "outputs": [],
   "source": [
    "# make geometry field\n",
    "listings_geo['geometry'] = listings_geo.apply(lambda x: Point((x.longitude, x.latitude)), axis=1)\n",
    "type(listings_geo)"
   ]
  },
  {
   "cell_type": "code",
   "execution_count": null,
   "metadata": {
    "pycharm": {
     "name": "#%%\n"
    }
   },
   "outputs": [],
   "source": [
    "listings_geo = gpd.GeoDataFrame(listings_geo, crs=crs_4326, geometry=listings_geo.geometry)\n",
    "type(listings_geo)"
   ]
  },
  {
   "cell_type": "code",
   "execution_count": null,
   "metadata": {
    "pycharm": {
     "name": "#%%\n"
    }
   },
   "outputs": [],
   "source": [
    "# # Look at listings\n",
    "# # # Check crs\n",
    "# listings_geo = listings_geo.to_crs(neighbourhood.crs)\n",
    "\n",
    "# listings_geo.plot(marker='*', color='green', markersize=5);\n",
    "\n",
    "# # Now you can overlay over the outlines"
   ]
  },
  {
   "cell_type": "code",
   "execution_count": null,
   "metadata": {
    "pycharm": {
     "name": "#%%\n"
    }
   },
   "outputs": [],
   "source": [
    "# from folium import plugins\n",
    "# import folium\n",
    "# locs_190709_map = folium.Map(location=[50.1, 0], zoom_start = 13, tiles='cartodbpositron')\n",
    "\n",
    "# feature_ea = folium.FeatureGroup(name='Entire home/apt')\n",
    "# feature_pr = folium.FeatureGroup(name='Private room')\n",
    "# feature_sr = folium.FeatureGroup(name='Shared room')\n",
    "\n",
    "# for i, v in listings_geo.iterrows():\n",
    "#     popup = \"\"\"\n",
    "#     Location id : <b>%s</b><br>\n",
    "#     Host name : <b>%s</b><br>\n",
    "#     Room type : <b>%s</b><br>\n",
    "#     Neighbourhood : <b>%s</b><br>\n",
    "#     Price : <b>%d</b><br>\n",
    "#     Minimum nights : <b>%d</b><br>\n",
    "#     \"\"\" % (v['listing_id'], v['host_name'], v['room_type'], v['neighbourhood_cleansed'], v['price'], v['minimum_minimum_nights'])\n",
    "    \n",
    "#     if v['room_type'] == 'Entire home/apt':\n",
    "#         folium.CircleMarker(location=[v['latitude'], v['longitude']],\n",
    "#                             radius=1,\n",
    "#                             tooltip=popup,\n",
    "#                             color='#FFBA00',\n",
    "#                             fill_color='#FFBA00',\n",
    "#                             fill=True).add_to(feature_ea)\n",
    "#     elif v['room_type'] == 'Private room':\n",
    "#         folium.CircleMarker(location=[v['latitude'], v['longitude']],\n",
    "#                             radius=1,\n",
    "#                             tooltip=popup,\n",
    "#                             color='#087FBF',\n",
    "#                             fill_color='#087FBF',\n",
    "#                             fill=True).add_to(feature_pr)\n",
    "#     elif v['room_type'] == 'Shared room':\n",
    "#         folium.CircleMarker(location=[v['latitude'], v['longitude']],\n",
    "#                             radius=1,\n",
    "#                             tooltip=popup,\n",
    "#                             color='#FF0700',\n",
    "#                             fill_color='#FF0700',\n",
    "#                             fill=True).add_to(feature_sr)\n",
    "\n",
    "# feature_ea.add_to(locs_190709_map)\n",
    "# feature_pr.add_to(locs_190709_map)\n",
    "# feature_sr.add_to(locs_190709_map)\n",
    "# folium.LayerControl(collapsed=False).add_to(locs_190709_map)\n",
    "# locs_190709_map.save('locations_190709_v1.html')"
   ]
  },
  {
   "cell_type": "code",
   "execution_count": null,
   "metadata": {},
   "outputs": [],
   "source": [
    "from mpl_toolkits.axes_grid1 import make_axes_locatable"
   ]
  },
  {
   "cell_type": "code",
   "execution_count": null,
   "metadata": {},
   "outputs": [],
   "source": [
    "# add marker for taylor swift concert\n",
    "lat =[51.556028]\n",
    "long = [-0.2821926]\n",
    "geometry = [Point(xy) for xy in zip(long,lat)]\n",
    "\n",
    "ts_df = gpd.GeoDataFrame(geometry = geometry, crs=crs_4326)"
   ]
  },
  {
   "cell_type": "code",
   "execution_count": null,
   "metadata": {
    "pycharm": {
     "name": "#%%\n"
    }
   },
   "outputs": [],
   "source": [
    "fig, ax = plt.subplots(1, 1, figsize=(30,20))\n",
    "\n",
    "lgnd_kwds = {'label': 'Average price per neighbourhood', \n",
    "             'orientation': 'vertical'}\n",
    "\n",
    "divider = make_axes_locatable(ax)\n",
    "cax = divider.append_axes(\"left\", size=\"3%\")\n",
    "\n",
    "base = neighbourhood.plot(ax=ax,\n",
    "                        column='price_mean', \n",
    "                        edgecolor='black',\n",
    "                        cmap='OrRd', \n",
    "                        alpha=0.5,\n",
    "                        zorder=1,\n",
    "                        cax=cax,                        \n",
    "                        legend=True, \n",
    "                        legend_kwds=lgnd_kwds)\n",
    "\n",
    "\n",
    "ts_df.plot(ax = base, markersize = 200, color = 'black', marker = '*')\n",
    "\n",
    "# ctx.add_basemap(base, crs=geo_df.crs.to_string(), source=ctx.providers.OpenStreetMap.Mapnik)\n",
    "\n",
    "base.set_axis_off();\n",
    "\n",
    "plt.suptitle('Listings per Neighbourhood', fontsize=20)\n",
    "plt.show()"
   ]
  },
  {
   "cell_type": "code",
   "execution_count": null,
   "metadata": {
    "pycharm": {
     "name": "#%%\n"
    }
   },
   "outputs": [],
   "source": [
    "fig, ax = plt.subplots(1, 1, figsize=(20,15))\n",
    "\n",
    "lgnd_kwds = {'label': 'Average price per neighbourhood', \n",
    "             'orientation': 'vertical'}\n",
    "\n",
    "lgnd_kwds_2 = {'title': 'Neighborhoods',\n",
    "               'loc': 'upper left',\n",
    "               'bbox_to_anchor': (1, 1.03),\n",
    "               'ncol':1}\n",
    "\n",
    "# divider = make_axes_locatable(ax)\n",
    "# cax = divider.append_axes(\"left\", size=\"3%\")\n",
    "\n",
    "# base = neighbourhood.plot(ax=ax,\n",
    "#                         column='price_mean', \n",
    "#                         edgecolor='black',\n",
    "#                         cmap='Blues', \n",
    "#                         alpha=0.2,\n",
    "#                         zorder=2)\n",
    "\n",
    "listings_geo.plot(ax=base, marker='o', markersize=15, column=\"price_mean\", legend=True, cmap='OrRd', scheme=\"NaturalBreaks\", zorder=1)\n",
    "\n",
    "# ts_df.plot(ax = base, markersize = 50, color = 'black', marker = '*', zorder=3)\n",
    "\n",
    "# ctx.add_basemap(base, crs=geo_df.crs.to_string(), source=ctx.providers.OpenStreetMap.Mapnik)\n",
    "\n",
    "base.set_axis_off();\n",
    "\n",
    "# plt.title('Listings per Neighbourhood')\n",
    "plt.show()"
   ]
  },
  {
   "cell_type": "code",
   "execution_count": null,
   "metadata": {
    "pycharm": {
     "name": "#%%\n"
    }
   },
   "outputs": [],
   "source": [
    "fig, ax = plt.subplots(1, 1, figsize=(30,20))\n",
    "\n",
    "lgnd_kwds = {'label': 'Average price per neighbourhood', \n",
    "             'orientation': 'vertical'}\n",
    "\n",
    "lgnd_kwds_2 = {'title': 'Neighborhoods',\n",
    "               'loc': 'upper left',\n",
    "               'bbox_to_anchor': (1, 1.03),\n",
    "               'ncol':1}\n",
    "\n",
    "# divider = make_axes_locatable(ax)\n",
    "# cax = divider.append_axes(\"left\", size=\"3%\")\n",
    "\n",
    "base = neighbourhood.plot(ax=ax,\n",
    "                        column='price_mean', \n",
    "                        edgecolor='black',\n",
    "                        cmap='OrRd', \n",
    "                        alpha=0.4,\n",
    "                        zorder=2)\n",
    "\n",
    "listings_geo.plot(ax=base, marker='o', markersize=20, column=\"price_mean\", legend=True, cmap='inferno_r', scheme=\"NaturalBreaks\", zorder=1)\n",
    "\n",
    "ts_df.plot(ax = base, markersize = 400, color = 'black', marker = '*', zorder=3)\n",
    "\n",
    "# ctx.add_basemap(base, crs=geo_df.crs.to_string(), source=ctx.providers.OpenStreetMap.Mapnik)\n",
    "\n",
    "base.set_axis_off();\n",
    "\n",
    "# plt.title('Listings per Neighbourhood')\n",
    "plt.show()"
   ]
  },
  {
   "cell_type": "code",
   "execution_count": null,
   "metadata": {
    "pycharm": {
     "name": "#%%\n"
    }
   },
   "outputs": [],
   "source": [
    "import numba"
   ]
  },
  {
   "cell_type": "code",
   "execution_count": null,
   "metadata": {
    "pycharm": {
     "name": "#%%\n"
    }
   },
   "outputs": [],
   "source": [
    "lgnd_kwds = {'title': 'Neighborhoods',\n",
    "             'loc': 'upper left',\n",
    "             'bbox_to_anchor': (1, 1.03),\n",
    "             'ncol':1}\n",
    "\n",
    "base=neighbourhood.plot(color='white', edgecolor='black', figsize=(30,20), zorder=2, alpha=0.3)\n",
    "listings_geo.plot(ax=base, marker='o', markersize=10, column=\"price_mean\", legend=True, cmap='inferno_r', scheme='user_defined', \n",
    "                  classification_kwds={'bins':[150, 350, 670, 2000]}, zorder=1)\n",
    "ts_df.plot(ax = base, markersize = 400, color = 'black', marker = '*', zorder=3)\n",
    "\n",
    "base.set_axis_off();\n",
    "\n",
    "plt.title('Listings per Neighbourhood')\n",
    "plt.show()"
   ]
  },
  {
   "cell_type": "code",
   "execution_count": null,
   "metadata": {
    "pycharm": {
     "name": "#%%\n"
    }
   },
   "outputs": [],
   "source": [
    "lgnd_kwds = {'title': 'Neighborhoods',\n",
    "             'loc': 'upper left',\n",
    "             'bbox_to_anchor': (1, 1.03),\n",
    "             'ncol':1}\n",
    "\n",
    "base=neighbourhood.plot(color='white', edgecolor='black', figsize=(30,20), zorder=2, alpha=0.3)\n",
    "listings_geo.plot(ax=base, marker='o', markersize=10, column=\"price_mean\", legend=True, cmap='inferno_r', scheme='user_defined', \n",
    "                  classification_kwds={'bins':[150, 350, 670, 2000]}, zorder=1)\n",
    "ts_df.plot(ax = base, markersize = 400, color = 'black', marker = '*', zorder=3)\n",
    "\n",
    "base.set_axis_off();\n",
    "\n",
    "plt.title('Listings per Neighbourhood')\n",
    "plt.show()"
   ]
  },
  {
   "cell_type": "code",
   "execution_count": null,
   "metadata": {},
   "outputs": [],
   "source": []
  },
  {
   "cell_type": "code",
   "execution_count": null,
   "metadata": {},
   "outputs": [],
   "source": []
  },
  {
   "cell_type": "code",
   "execution_count": null,
   "metadata": {},
   "outputs": [],
   "source": []
  },
  {
   "cell_type": "markdown",
   "metadata": {
    "pycharm": {
     "name": "#%%\n"
    }
   },
   "source": [
    "(base layer)[https://stackoverflow.com/questions/63644131/how-to-use-geopandas-to-plot-latitude-and-longitude-on-a-more-detailed-map-with]"
   ]
  },
  {
   "cell_type": "code",
   "execution_count": null,
   "metadata": {},
   "outputs": [],
   "source": []
  }
 ],
 "metadata": {
  "kernelspec": {
   "display_name": "Python [conda env:ds_udacity_projects] *",
   "language": "python",
   "name": "conda-env-ds_udacity_projects-py"
  },
  "language_info": {
   "codemirror_mode": {
    "name": "ipython",
    "version": 3
   },
   "file_extension": ".py",
   "mimetype": "text/x-python",
   "name": "python",
   "nbconvert_exporter": "python",
   "pygments_lexer": "ipython3",
   "version": "3.10.13"
  }
 },
 "nbformat": 4,
 "nbformat_minor": 4
}
